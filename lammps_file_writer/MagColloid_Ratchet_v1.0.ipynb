{
 "cells": [
  {
   "cell_type": "code",
   "execution_count": 1,
   "metadata": {
    "scrolled": true
   },
   "outputs": [],
   "source": [
    "from lammps_file_writer import *\n",
    "from support import *\n",
    "\n",
    "import numpy as np\n",
    "from scipy.spatial import Delaunay"
   ]
  },
  {
   "cell_type": "code",
   "execution_count": 2,
   "metadata": {},
   "outputs": [],
   "source": [
    "import sys\n",
    "import os\n",
    "import numpy as np\n",
    "import matplotlib.pyplot as plt\n",
    "import pandas as pd\n",
    "\n",
    "sys.path.insert(0, './magcolloids/magcolloids')\n",
    "\n",
    "import magcolloids.magcolloids as mgc\n",
    "\n",
    "%load_ext autoreload\n",
    "%autoreload 2"
   ]
  },
  {
   "cell_type": "code",
   "execution_count": 3,
   "metadata": {},
   "outputs": [],
   "source": [
    "ureg = mgc.ureg"
   ]
  },
  {
   "cell_type": "code",
   "execution_count": 4,
   "metadata": {},
   "outputs": [],
   "source": [
    "def initial_setup(packing, height, radius):\n",
    "    return mgc.initial_setup(150, packing, height, radius)\n",
    "    \n",
    "def particles(initial_conditions, radius, susceptibility, diffusion, density, temperature):\n",
    "    return mgc.particles(\n",
    "    initial_conditions*ureg.um,\n",
    "    radius = radius*ureg.um,\n",
    "    susceptibility = susceptibility,\n",
    "    diffusion=diffusion*ureg.um**2/ureg.s,\n",
    "    density = density*ureg.kg/ureg.m**3,\n",
    "    temperature=temperature*ureg.K)\n",
    "\n",
    "def field(magnitude, frequency, angle):\n",
    "    return mgc.field(magnitude = magnitude*ureg.mT, frequency = frequency*ureg.Hz, angle = angle*ureg.degrees)\n",
    "\n",
    "def world(particles, temperature, region, boundaries, walls, dipoles_cutoff):\n",
    "    return None\n",
    "#field = mgc.field(magnitude = 7.28*ureg.mT, frequency = 1*ureg.Hz, angle = 27*ureg.degrees)\n",
    "#world = mgc.world(particles, temperature = 300*ureg.K,\n",
    "#                  region=region*ureg.um, boundaries = ['p','p','f'], walls = [False,False,True],\n",
    "#                  dipole_cutoff = 20*ureg.um)"
   ]
  },
  {
   "cell_type": "code",
   "execution_count": 1,
   "metadata": {},
   "outputs": [
    {
     "ename": "NameError",
     "evalue": "name 'generate_lattice' is not defined",
     "output_type": "error",
     "traceback": [
      "\u001b[0;31m---------------------------------------------------------------------------\u001b[0m",
      "\u001b[0;31mNameError\u001b[0m                                 Traceback (most recent call last)",
      "Cell \u001b[0;32mIn[1], line 29\u001b[0m\n\u001b[1;32m     26\u001b[0m input_file_name     \u001b[38;5;241m=\u001b[39m \u001b[38;5;124m\"\u001b[39m\u001b[38;5;124mmag_ratchet_\u001b[39m\u001b[38;5;124m\"\u001b[39m \u001b[38;5;241m+\u001b[39m \u001b[38;5;124mf\u001b[39m\u001b[38;5;124m\"\u001b[39m\u001b[38;5;132;01m{\u001b[39;00mfrequency\u001b[38;5;132;01m}\u001b[39;00m\u001b[38;5;124mHz\u001b[39m\u001b[38;5;124m\"\u001b[39m \u001b[38;5;241m+\u001b[39m \u001b[38;5;124m\"\u001b[39m\u001b[38;5;124m.lmpin\u001b[39m\u001b[38;5;124m\"\u001b[39m\n\u001b[1;32m     28\u001b[0m \u001b[38;5;66;03m# Generate lattice\u001b[39;00m\n\u001b[0;32m---> 29\u001b[0m positions \u001b[38;5;241m=\u001b[39m \u001b[43mgenerate_lattice\u001b[49m(a, nx, ny, nz, \u001b[38;5;241m4.0\u001b[39m)\n\u001b[1;32m     31\u001b[0m \u001b[38;5;66;03m# Apply ratchet boundary\u001b[39;00m\n\u001b[1;32m     32\u001b[0m filtered_positions \u001b[38;5;241m=\u001b[39m apply_ratchet_boundary(positions, radius, saw_amp, saw_freq, N)\n",
      "\u001b[0;31mNameError\u001b[0m: name 'generate_lattice' is not defined"
     ]
    }
   ],
   "source": [
    "# Main script\n",
    "if __name__ == \"__main__\":\n",
    "    # Define parameters\n",
    "    a           = 1  # Lattice constant\n",
    "    radius      = 8.0  # Average radius of the ratchet\n",
    "    saw_amp     = 4.0  # Amplitude of the sawtooth modulation\n",
    "    saw_freq    = 4  # Frequency of the sawtooth pattern\n",
    "    N           = 1000  # Number of points for the ratchet boundary\n",
    "    nx, ny, nz  = 20, 20, 2  # Number of unit cells in each direction\n",
    "    Kb          = 0.1 #Bond coeff\n",
    "    density     = 0.01\n",
    "    mag_r = 1.25\n",
    "    ratch_r = 0.25\n",
    "    c_eps = 0.01\n",
    "    cr_eps = 0.01\n",
    "    seed = 422132\n",
    "    run = 5000000\n",
    "\n",
    "    frequency = 1\n",
    "\n",
    "    void_radius = radius + saw_amp + 1 ##Tolerance\n",
    "\n",
    "    dir                 ='./lammps_files/'\n",
    "    ratchet_file_name   = \"ratchet_lattice.data\"\n",
    "    mag_file_name       = \"magcolloids_lattice.data\"\n",
    "    input_file_name     = \"mag_ratchet_\" + f\"{frequency}Hz\" + \".lmpin\"\n",
    "\n",
    "    # Generate lattice\n",
    "    positions = generate_lattice(a, nx, ny, nz, 4.0)\n",
    "    \n",
    "    # Apply ratchet boundary\n",
    "    filtered_positions = apply_ratchet_boundary(positions, radius, saw_amp, saw_freq, N)\n",
    "    \n",
    "    # Create bonds\n",
    "    bonds = create_bonds(filtered_positions, a)\n",
    "    #write ratchet data\n",
    "    ratchet_data(a, Kb, density, filtered_positions, bonds, dir, ratchet_file_name)\n",
    "    \n",
    "    #input_file_data(dir, input_file_name, mag_file_name, ratchet_file_name, void_radius, mag_r, ratch_r, c_eps, cr_eps,\n",
    "    #                vars(field), seed, run)\n",
    "\n",
    "\n",
    "    #for i in range(0,10,1):\n",
    "\n",
    "    #    frequency = i\n",
    "    #    fld = field(magnitude = 7.28, frequency = frequency, angle = 27)\n",
    "         \n",
    "    #    input_file_name     = \"mag_ratchet_\" + f\"{frequency}Hz\" + \".lmpin\"\n",
    "    #    input_file_data(dir, input_file_name, mag_file_name, ratchet_file_name, void_radius, mag_r, ratch_r, c_eps, cr_eps,\n",
    "    #                vars(fld), seed, run)"
   ]
  },
  {
   "cell_type": "code",
   "execution_count": null,
   "metadata": {},
   "outputs": [],
   "source": []
  }
 ],
 "metadata": {
  "kernelspec": {
   "display_name": "Python 3 (ipykernel)",
   "language": "python",
   "name": "python3"
  },
  "language_info": {
   "codemirror_mode": {
    "name": "ipython",
    "version": 3
   },
   "file_extension": ".py",
   "mimetype": "text/x-python",
   "name": "python",
   "nbconvert_exporter": "python",
   "pygments_lexer": "ipython3",
   "version": "3.10.12"
  }
 },
 "nbformat": 4,
 "nbformat_minor": 4
}
